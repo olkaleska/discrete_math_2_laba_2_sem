{
  "cells": [
    {
      "cell_type": "markdown",
      "metadata": {
        "id": "TUMlYqj3oKCC"
      },
      "source": [
        "## Лабораторна робота №2: \"Імплементація алгоритмів стиснення\"\n",
        "\n",
        "Склад команди та розподіл виконаних завдань:\n",
        "\n",
        "-\n",
        "-\n",
        "\n",
        "Для кожного з алгоритмів поданих нижче\n",
        "- опишіть як працює алгорит\n",
        "- напишіть класи з методами encode та decode\n",
        "- перевірте правильність кодування та декодування\n",
        "- дослідіть час виконання коду в залежності від розмірів вхідних даних\n",
        "- оцініть ступінь стиснення(у відсотка) в залежності від розмірів\n",
        "- напишіть висновок про ефективність різних алгоритмів та умови за яких той чи інший алгоритм дають кращий результат"
      ]
    },
    {
      "cell_type": "markdown",
      "metadata": {
        "id": "q7FpJG25oNzA"
      },
      "source": [
        "# Алгоритм Гаффмана\n",
        "\n",
        "В цьому алгоритмі доцільно імплементувати клас node та додаткові функції в Huffman для побудови дерева кодування"
      ]
    },
    {
      "cell_type": "code",
      "execution_count": null,
      "metadata": {
        "id": "5fHzFB9gh7c2"
      },
      "outputs": [],
      "source": [
        "class Huffman:\n",
        "    def encode(self, text: str) -> tuple[str, dict[str, str]]:\n",
        "        pass\n",
        "\n",
        "    def decode(self, code: str, coding_dict: dict[str, str]):\n",
        "        pass"
      ]
    },
    {
      "cell_type": "markdown",
      "metadata": {
        "id": "6_0LIrbWoQxo"
      },
      "source": [
        "# Алгоритм LZW"
      ]
    },
    {
      "cell_type": "code",
      "execution_count": null,
      "metadata": {
        "id": "ogew0FkaoUNS",
        "colab": {
          "base_uri": "https://localhost:8080/"
        },
        "outputId": "8459d942-f468-4365-a48d-f56a4f4f2dae"
      },
      "outputs": [
        {
          "output_type": "stream",
          "name": "stdout",
          "text": [
            "True\n",
            "True\n",
            "180 312\n",
            "Час кодування якогось тексту --- 0.02297765999992407 секунд.\n",
            "Час декодування якогось тексту --- 6.969200012463261e-05 секунд.\n",
            "Ступінь стиснення ---  113.33 %.; len(encoded[0])=187, len(decoded)=165.\n",
            "\n",
            "Час кодування якогось тексту --- 1.345512731999861 секунд.\n",
            "Час декодування якогось тексту --- 0.00040361199990002206 секунд.\n",
            "Ступінь стиснення ---  203.79 %.; len(encoded[0])=913, len(decoded)=448.\n",
            "\n",
            "Час кодування якогось тексту --- 0.5890526950001913 секунд.\n",
            "Час декодування якогось тексту --- 0.0002830789999279659 секунд.\n",
            "Ступінь стиснення ---  225.44 %.; len(encoded[0])=514, len(decoded)=228.\n",
            "\n",
            "Чим менше повторень символів, тим довше закодоване повідомлення та час виконання алгоритму.\n"
          ]
        }
      ],
      "source": [
        "from timeit import default_timer as timer\n",
        "def measure(text, obj):\n",
        "    start = timer()\n",
        "    encoded = obj.encode(text)\n",
        "    end = timer()\n",
        "    print('Час кодування якогось тексту ---',end - start, 'секунд.')\n",
        "    start = timer()\n",
        "    decoded = obj.decode(encoded[0], encoded[1])\n",
        "    end = timer()\n",
        "    print('Час декодування якогось тексту ---', end - start,'секунд.')\n",
        "    print('Ступінь стиснення --- ', round((len(encoded[0])/len(decoded))*100, 2),f'%.; {len(encoded[0])=}, {len(decoded)=}.\\n')\n",
        "class LZW:\n",
        "    def encode(self, text: str) -> tuple[str, list]:\n",
        "        '''\n",
        "        1) створюється словник з усіма стрічками довжини 1\n",
        "        2) знаходиться найдовша стрічка у словнику, що співпадає з поточним інпутом\n",
        "        3) посилається на аутпут індекс стрічки у словнику та прибирається стрічка з інпуту\n",
        "        4) у словник додається стрічка разом із наступним символом у інпуті\n",
        "        5) повторюється крок 2, поки довжина інпуту більше нуля\n",
        "        '''\n",
        "        output = []\n",
        "        # lst = [chr(x).upper() for x in range(97, 123)]\n",
        "        lst = [x for x in sorted(set(text))]\n",
        "        def find(smth):\n",
        "            for i in range(len(smth), 0, -1):\n",
        "                for j in lst[::-1]:\n",
        "                    if smth[:i] == j:\n",
        "                        if smth[:i+1] not in lst:\n",
        "                            lst.append(smth[:i+1])\n",
        "                        output.append(lst.index(j)+1)\n",
        "                        smth = smth.replace(j, '', 1)\n",
        "                        return smth\n",
        "        while text:\n",
        "            text = find(text)\n",
        "        output = ','.join(str(x) for x in output)\n",
        "        return output, lst\n",
        "\n",
        "\n",
        "    def decode(self, code: str, coding_dict: list) -> str:\n",
        "        '''\n",
        "        1) зчитується закодований символ\n",
        "            1.1) якщо є у словнику, то\n",
        "                1.1.1) сума попередньої стрічка в аутпуті та першого символа поточної стрічки додається до словника\n",
        "                1.1.2) відповідна стрічка у словнику посилається на аутпут\n",
        "            1.2) якщо нема у словнику, то\n",
        "                1.2.1) сума попередньої стрічки в аутпуті та першого символа цієї стрічки додається до словника\n",
        "                1.2.2) та ж сума посилається на аутпут\n",
        "        2) повторюється крок 2 до кінця стрічки інпуту\n",
        "        '''\n",
        "        code = [int(x) for x in code.split(',')]\n",
        "        def find(code):\n",
        "            output = []\n",
        "            for i in range(len(code)):\n",
        "                if i == 0:\n",
        "                    output.append(coding_dict[code[i]-1])\n",
        "                elif code[i]-1<len(coding_dict):\n",
        "                    w = coding_dict[code[i]-1]\n",
        "                    coding_dict.append(output[-1] + w[0])\n",
        "                    output.append(w)\n",
        "                else:\n",
        "                    v = output[-1] + output[-1][0]\n",
        "                    coding_dict.append(v)\n",
        "                    output.append(v)\n",
        "            return output\n",
        "        return \"\".join(find(code))\n",
        "\n",
        "obj = LZW()\n",
        "print('abacababacabc' == obj.decode(obj.encode('abacababacabc')[0], obj.encode('abacababacabc')[1]))\n",
        "print('adbbadbcabdbadadcbda' == obj.decode(obj.encode('adbbadbcabdbadadcbda')[0], obj.encode('adbbadbcabdbadadcbda')[1]))\n",
        "\n",
        "\n",
        "initial_msg = 'abacababacabcabacababacabcabacababacabcabacababacabcabacababacabcabacababacabcabacababacabcabaca\\\n",
        "babacabcabacababacabcabacababacabcabacababacabcabacababacabcabacababacabcabacababacabcabacababacabcabacababacabcabacababac\\\n",
        "abcabacababacabcabacababacabcabacababacabcabacababacabcabacababacabcabacababacabcabacababacabc'\n",
        "compressed = obj.encode(initial_msg)\n",
        "decompressed = obj.decode(compressed[0], compressed[1])\n",
        "assert decompressed == initial_msg\n",
        "print(len(compressed[0]), len(decompressed))\n",
        "\n",
        "measure('abdcabdcabdcabcdbaacddbccdcbdbabababdcabbaaaabbcdbdcabcdbbbcbcbcaabdcadabdabcbdcadbacdcbadabcdcdabcbacdbcabdbacdbbcddcbdcdcdbaadcbaccbdbabcabbabaadbcabdcabdbabdcabdc', obj)\n",
        "\n",
        "\n",
        "\n",
        "measure('Anyways uhm... I bought a whole bunch of shungite, rocks, \\\n",
        "do you know what shungite is? Anybody know what shungite is. No, no Suge Knight, \\\n",
        "I think hes locked up in prison. Talking shungite. Anyways, its a 2 billion year old like rock, \\\n",
        "stone that protects against frequencies and unwanted frequencies that may be traveling in the air. \\\n",
        "So thats my story. I bought a whole bunch of stuff, put them around the la casa. Little pyramids. Stuff like that.', obj)\n",
        "\n",
        "\n",
        "\n",
        "measure(\"На початку Бог створив Небо та землю.\\\n",
        "2 А земля була пуста та порожня, і темрява була над безоднею, і Дух Божий ширяв над поверхнею води.\\\n",
        "3 І сказав Бог: Хай станеться світло! І сталося світло.\\\n",
        "4 І побачив Бог світло, що добре воно\", obj)#, і Бог відділив світло від темряви.\\\n",
        "# 5 І Бог назвав світло: День, а темряву назвав: Ніч. І був вечір, і був ранок, день перший.\\\n",
        "# 6 І сказав Бог: Нехай станеться твердь посеред води, і нехай відділяє вона між водою й водою.\\\n",
        "# 7 І Бог твердь учинив, і відділив воду, що під твердю вона, і воду, що над твердю вона. І сталося так.\\\n",
        "# 8 І назвав Бог твердь Небо. І був вечір, і був ранок день другий.\\\n",
        "# 9 І сказав Бог: Нехай збереться вода з-попід неба до місця одного, і нехай суходіл стане видний. І сталося так.\\\n",
        "# 10 І назвав Бог суходіл: Земля, а місце зібрання води назвав: Море. І Бог побачив, що добре воно.\\\n",
        "# 11 І сказав Бог: Нехай земля вродить траву, ярину, що насіння вона розсіває, дерево овочеве, що за родом своїм плід приносить, що в ньому насіння його на землі. І сталося так.\\\n",
        "# 12 І земля траву видала, ярину, що насіння розсіває за родом її, і дерево, що приносить плід, що насіння його в нім за родом його. І Бог побачив, що добре воно.\\\n",
        "# 13 І був вечір, і був ранок, день третій.\\\n",
        "# 14 І сказав Бог: Нехай будуть світила на тверді небесній для відділення дня від ночі, і нехай вони стануть знаками, і часами умовленими, і днями, і роками.\\\n",
        "# 15 І нехай вони стануть на тверді небесній світилами, щоб світити над землею. І сталося так.\\\n",
        "# 16 І вчинив Бог обидва світила великі, світило велике, щоб воно керувало днем, і світило мале, щоб керувало ніччю, також зорі.\\\n",
        "# 17 І Бог умістив їх на тверді небесній, щоб світили вони над землею,\\\n",
        "# 18 і щоб керували днем та ніччю, і щоб відділювали світло від темряви. І Бог побачив, що це добре.\\\n",
        "# 19 І був вечір, і був ранок, день четвертий.\\\n",
        "# 20 І сказав Бог: Нехай вода вироїть дрібні істоти, душу живу, і птаство, що літає над землею під небесною твердю.\\\n",
        "# 21 І створив Бог риби великі, і всяку душу живу плазуючу, що її вода вироїла за їх родом, і всяку пташину крилату за родом її. І Бог побачив, що добре воно.\\\n",
        "# 22 І поблагословив їх Бог, кажучи: Плодіться й розмножуйтеся, і наповнюйте воду в морях, а птаство нехай розмножується на землі!\\\n",
        "# 23 І був вечір, і був ранок, день п'ятий.\\\n",
        "# 24 І сказав Бог: Нехай видасть земля живу душу за родом її, худобу й плазуюче, і земну звірину за родом її. І сталося так.\\\n",
        "# 25 І вчинив Бог земну звірину за родом її, і худобу за родом її, і все земне плазуюче за родом його. І бачив Бог, що добре воно.\\\n",
        "# 26 І сказав Бог: Створімо людину за образом Нашим, за подобою Нашою, і хай панують над морською рибою, і над птаством небесним, і над худобою, і над усею землею, і над усім плазуючим, що плазує по землі.\\\n",
        "# 27 І Бог на Свій образ людину створив, на образ Божий її Він створив, як чоловіка та жінку створив їх.\\\n",
        "# 28 І поблагословив їх Бог, і сказав Бог до них: Плодіться й розмножуйтеся, і наповнюйте землю, оволодійте нею, і пануйте над морськими рибами, і над птаством небесним, і над кожним плазуючим живим на землі!\\\n",
        "# 29 І сказав Бог: Оце дав Я вам усю ярину, що розсіває насіння, що на всій землі, і кожне дерево, що на ньому плід деревний, що воно розсіває насіння, нехай буде на їжу це вам!\\\n",
        "# 30 І земній усій звірині і всьому птаству небесному, і кожному, що плазує по землі, що душа в ньому жива, уся зелень яринна на їжу для них. І сталося так.\\\n",
        "# 31 І побачив Бог усе, що вчинив. І ото, вельми добре воно! І був вечір, і був ранок, день шостий.\", obj)\n",
        "print(\"Чим менше повторень символів, тим довше закодоване повідомлення та час виконання алгоритму.\")\n"
      ]
    },
    {
      "cell_type": "markdown",
      "metadata": {
        "id": "eETQbkkDoTDc"
      },
      "source": [
        "# Алгоритм LZ77\n",
        "\n",
        "Потрібно заміряти розміри саме тексту, проте для роботи доцільно використовувати список тюплів, тому для зручності варто імплементувати додаткові алгоритми _text2list та _list2text"
      ]
    },
    {
      "cell_type": "code",
      "execution_count": null,
      "metadata": {
        "id": "Mu1A0QS2oaOF"
      },
      "outputs": [],
      "source": [
        "class LZ77:\n",
        "    def __init__(self, buffer_size: int):\n",
        "        self.buffer_size = buffer_size\n",
        "\n",
        "    @staticmethod\n",
        "    def find_second_last_occurrence(string, str_to_find):\n",
        "        \"\"\"Допоміжна функція для знаходження офсету, знаходить 2ге з кінця входження значення\"\"\"\n",
        "        # Знаходимо всі індекси, де починається підрядок\n",
        "        indices = [i for i in range(len(string) - len(str_to_find) + 1) \\\n",
        "    if string.startswith(str_to_find, i)]\n",
        "        # Якщо знайдено 2 або більше входження, повертаємо передостаннє\n",
        "        if len(indices) >= 2:\n",
        "            return indices[-2]\n",
        "        else:\n",
        "            return -1\n",
        "\n",
        "    def encode(self, text: str) -> str:\n",
        "        \"\"\"lz77 закодування\"\"\"\n",
        "        all_text = text\n",
        "        result, buffer = [], []\n",
        "        ofset, lenght, nexxt = 0, 0, ''\n",
        "        ind = 0\n",
        "        while text:\n",
        "            if all_text[ind] in buffer:\n",
        "                buffer_lenght_befor = len(buffer) #якщо буфер ще не заповнений повністю\n",
        "                ofset = buffer_lenght_befor - ''.join(buffer).rfind(all_text[ind])\n",
        "                buffer.append(all_text[ind][-1]) #щоб цей прикол з повторами одразу ловити\n",
        "                text = text[1:]\n",
        "                matched = all_text[ind] #ця літера є, того змечили її\n",
        "                for i, el in enumerate(text): #Шукаємо найкращий метч\n",
        "                    if matched+el in \"\".join(buffer):\n",
        "                        matched += el\n",
        "                        buffer.append(el)\n",
        "                    else:\n",
        "                        buffer.append(el)\n",
        "                        ofset = ''.join(buffer).rfind(matched) - \\\n",
        "                            LZ77.find_second_last_occurrence(''.join(buffer), matched)\n",
        "                        #на випадок, що в нас було кілька варіантів \"початку\", але обираємо той,\n",
        "                        # що дозволяє за один раз більше закодити\n",
        "                        if len(buffer) > self.buffer_size:\n",
        "                            buffer = buffer[-self.buffer_size:]\n",
        "                        lenght, nexxt = len(matched), el\n",
        "                        nexxt = el\n",
        "                        if i == len(text) - 1:\n",
        "                            nexxt = \" \"\n",
        "                        text = text[len(matched):]\n",
        "                        result.append((ofset, lenght, nexxt))\n",
        "                        ind += len(matched) +1\n",
        "                        break\n",
        "            else: #випадок першого входження літери\n",
        "                buffer.append(all_text[ind])\n",
        "                ofset, lenght, nexxt = 0, 0, all_text[ind]\n",
        "                result.append((ofset, lenght, nexxt))\n",
        "                text, buffer = text[1:], buffer[-self.buffer_size:]\n",
        "                ind += 1\n",
        "        return result\n",
        "\n",
        "    def decode(self, code: str) -> str:\n",
        "        \"\"\"Алгоритм декожування до lz77\"\"\"\n",
        "        result = []\n",
        "        for el in code:\n",
        "            ofset, lenght, neext = el\n",
        "            if ofset == 0: #перше входження літери\n",
        "                result.append(neext)\n",
        "            elif ofset == lenght: #звичайний випадок\n",
        "                result.append(''.join(result)[-ofset:] + neext)\n",
        "            elif ofset > lenght: #звичайний випадок\n",
        "                result.append(''.join(result)[-ofset:-ofset+lenght] + neext)\n",
        "            else: #ця наша найприкріша ситуація\n",
        "                timed = \"\".join(result)[-ofset]*(lenght//ofset)\n",
        "                timed += timed[:-(lenght%ofset)] + neext\n",
        "                result.append(timed)\n",
        "        result = \"\".join(result)\n",
        "        return result"
      ]
    },
    {
      "cell_type": "code",
      "execution_count": null,
      "metadata": {
        "colab": {
          "base_uri": "https://localhost:8080/"
        },
        "id": "iZaMjecaM99t",
        "outputId": "9f78aeaf-359c-48db-f285-577d464309d5"
      },
      "outputs": [
        {
          "output_type": "stream",
          "name": "stdout",
          "text": [
            "Час кодування якогось тексту --- 0.0007657630001176585 секунд.\n",
            "Час декодування якогось тексту --- 0.0002388349998909689 секунд.\n",
            "Ступінь стиснення ---  83.33 %.\n",
            " 264 220\n",
            "Час кодування якогось тексту --- 0.00023812400013412116 секунд.\n",
            "Час декодування якогось тексту --- 3.5796000020127394e-05 секунд.\n",
            "Ступінь стиснення ---  75.56 %.\n",
            " 90 68\n"
          ]
        }
      ],
      "source": [
        "from timeit import default_timer as timer\n",
        "def measure(text, obj):\n",
        "    start = timer()\n",
        "    encoded = obj.encode(text)\n",
        "    end = timer()\n",
        "    print('Час кодування якогось тексту ---',end - start, 'секунд.')\n",
        "    start = timer()\n",
        "    decoded = obj.decode(encoded)\n",
        "    end = timer()\n",
        "    print('Час декодування якогось тексту ---', end - start,'секунд.')\n",
        "    print('Ступінь стиснення --- ', round(len(encoded)/len(decoded)*100, 2),'%.\\n', len(decoded), len(encoded))\n",
        "\n",
        "buffer = LZ77(5)\n",
        "our_text = 'Карл у Клари украв коралі, а Клара у Карла вкрала кларнет'\n",
        "codded = buffer.encode(our_text)\n",
        "our_text == buffer.decode(codded)\n",
        "# our_text == decoding(codded)\n",
        "\n",
        "measure('На початку Бог створив Небо та землю.\\\n",
        "2 А земля була пуста та порожня, і темрява була над безоднею, і Дух Божий ширяв над поверхнею води.\\\n",
        "3 І сказав Бог: Хай станеться світло! І сталося світло.\\\n",
        "4 І побачив Бог світло, що добре воно, і Бог відділив світло від темряви.', buffer)\n",
        "\n",
        "measure('aduifynuiujidufuadfuanfikafopqorpqorqeruhafnsmiurokoiauaokcakjhipjnbyclqgavyfcgbutbagrvvt8', buffer)"
      ]
    },
    {
      "cell_type": "markdown",
      "metadata": {
        "id": "bz-B5jWroghO"
      },
      "source": [
        "# Алгоритм Deflate"
      ]
    },
    {
      "cell_type": "code",
      "execution_count": null,
      "metadata": {
        "id": "ZAU57ZQtogOC"
      },
      "outputs": [],
      "source": [
        "class Deflate:\n",
        "    def __init__(self, buffer_size: int):\n",
        "        pass\n",
        "\n",
        "    def encode(self, text: str) -> str:\n",
        "        pass\n",
        "\n",
        "    def decode(self, code: str) -> str:\n",
        "        pass"
      ]
    }
  ],
  "metadata": {
    "colab": {
      "provenance": []
    },
    "kernelspec": {
      "display_name": "Python 3",
      "name": "python3"
    },
    "language_info": {
      "name": "python"
    }
  },
  "nbformat": 4,
  "nbformat_minor": 0
}